{
 "cells": [
  {
   "cell_type": "markdown",
   "id": "20cb4340",
   "metadata": {
    "id": "20cb4340"
   },
   "source": [
    "## Programming Assignment_4\n",
    "----------------"
   ]
  },
  {
   "cell_type": "markdown",
   "id": "4fdb6695",
   "metadata": {
    "id": "4fdb6695"
   },
   "source": [
    "### 1. Write a Python Program to Find the Factorial of a Number?"
   ]
  },
  {
   "cell_type": "code",
   "execution_count": 13,
   "id": "hOeAnUwS8YPP",
   "metadata": {
    "id": "hOeAnUwS8YPP"
   },
   "outputs": [
    {
     "name": "stdout",
     "output_type": "stream",
     "text": [
      "Enter value for num :3\n",
      "Factorial is 6\n"
     ]
    }
   ],
   "source": [
    "num = int(input(\"Enter value for num :\"))\n",
    "fact=1\n",
    "for i in range(num):\n",
    "    fact =fact+fact*i\n",
    "print(\"Factorial is\",fact)"
   ]
  },
  {
   "cell_type": "markdown",
   "id": "e6beef62",
   "metadata": {
    "id": "e6beef62"
   },
   "source": [
    "### 2. Write a Python Program to Display the multiplication Table?"
   ]
  },
  {
   "cell_type": "code",
   "execution_count": 17,
   "id": "KRlnRPqETMOx",
   "metadata": {
    "id": "KRlnRPqETMOx"
   },
   "outputs": [
    {
     "name": "stdout",
     "output_type": "stream",
     "text": [
      "Enter value for num :2\n",
      "2 * 1 = 2\n",
      "2 * 2 = 4\n",
      "2 * 3 = 6\n",
      "2 * 4 = 8\n",
      "2 * 5 = 10\n",
      "2 * 6 = 12\n",
      "2 * 7 = 14\n",
      "2 * 8 = 16\n",
      "2 * 9 = 18\n",
      "2 * 10 = 20\n"
     ]
    }
   ],
   "source": [
    "num = int(input(\"Enter value for num :\"))\n",
    "for i in range(1,11):\n",
    "    print(num,\"*\",i,\"=\",num*i)"
   ]
  },
  {
   "cell_type": "markdown",
   "id": "-DGZq5N22z65",
   "metadata": {
    "id": "-DGZq5N22z65"
   },
   "source": []
  },
  {
   "cell_type": "markdown",
   "id": "7de7eba5",
   "metadata": {
    "id": "7de7eba5"
   },
   "source": [
    "### 3. Write a Python Program to Print the Fibonacci sequence?\n"
   ]
  },
  {
   "cell_type": "code",
   "execution_count": 25,
   "id": "ac35d093",
   "metadata": {},
   "outputs": [
    {
     "name": "stdout",
     "output_type": "stream",
     "text": [
      "Enter range :7\n",
      "0\n",
      "1\n",
      "1\n",
      "2\n",
      "3\n",
      "5\n",
      "8\n",
      "13\n",
      "21\n"
     ]
    }
   ],
   "source": [
    "num = int(input(\"Enter range :\"))\n",
    "a=0\n",
    "b=1\n",
    "print(a)\n",
    "print(b)\n",
    "for i in range(num):\n",
    "    c=a+b\n",
    "    print(c)\n",
    "    a=b\n",
    "    b=c"
   ]
  },
  {
   "cell_type": "markdown",
   "id": "0446442e",
   "metadata": {
    "id": "0446442e"
   },
   "source": [
    "### 4. Write a Python Program to Check Armstrong Number?"
   ]
  },
  {
   "cell_type": "code",
   "execution_count": 35,
   "id": "81fb41c4",
   "metadata": {},
   "outputs": [
    {
     "name": "stdout",
     "output_type": "stream",
     "text": [
      "Armstrong number\n"
     ]
    }
   ],
   "source": [
    "num = 153\n",
    "num1=num\n",
    "arm=0\n",
    "while(num>0):\n",
    "    a=num%10\n",
    "    arm = arm + a*a*a\n",
    "    num=num//10\n",
    "\n",
    "if(arm==num1):\n",
    "    print(\"Armstrong number\")\n",
    "else:\n",
    "    print(\"Not an Armstrong number\")"
   ]
  },
  {
   "cell_type": "markdown",
   "id": "a6f9adfe",
   "metadata": {
    "id": "a6f9adfe"
   },
   "source": [
    "### 5. Write a Python Program to Find Armstrong Number in an Interval?"
   ]
  },
  {
   "cell_type": "code",
   "execution_count": 39,
   "id": "c02864ca",
   "metadata": {},
   "outputs": [
    {
     "name": "stdout",
     "output_type": "stream",
     "text": [
      "Armstrong number 153\n",
      "Armstrong number 370\n",
      "Armstrong number 371\n"
     ]
    }
   ],
   "source": [
    "a=100\n",
    "b=400\n",
    "for i in range(a,b):\n",
    "    num = i\n",
    "    num1=num\n",
    "    arm=0\n",
    "    while(num>0):\n",
    "        a=num%10\n",
    "        arm = arm + a*a*a\n",
    "        num=num//10\n",
    "\n",
    "    if(arm==num1):\n",
    "        print(\"Armstrong number\",arm)"
   ]
  },
  {
   "cell_type": "markdown",
   "id": "qbmbp0_822o1",
   "metadata": {
    "id": "qbmbp0_822o1"
   },
   "source": []
  },
  {
   "cell_type": "markdown",
   "id": "157cad60",
   "metadata": {
    "id": "157cad60"
   },
   "source": [
    "### 6. Write a Python Program to Find the Sum of Natural Numbers?"
   ]
  },
  {
   "cell_type": "code",
   "execution_count": 45,
   "id": "4b287318",
   "metadata": {},
   "outputs": [
    {
     "name": "stdout",
     "output_type": "stream",
     "text": [
      "Enter range :5\n",
      "15.0\n"
     ]
    }
   ],
   "source": [
    "num = int(input(\"Enter range :\"))\n",
    "sum = (num*(num+1))/2\n",
    "print(sum)"
   ]
  }
 ],
 "metadata": {
  "colab": {
   "provenance": []
  },
  "kernelspec": {
   "display_name": "Python 3",
   "language": "python",
   "name": "python3"
  },
  "language_info": {
   "codemirror_mode": {
    "name": "ipython",
    "version": 3
   },
   "file_extension": ".py",
   "mimetype": "text/x-python",
   "name": "python",
   "nbconvert_exporter": "python",
   "pygments_lexer": "ipython3",
   "version": "3.8.8"
  }
 },
 "nbformat": 4,
 "nbformat_minor": 5
}
