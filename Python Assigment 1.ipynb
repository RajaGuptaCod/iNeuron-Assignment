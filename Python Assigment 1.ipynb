{
 "cells": [
  {
   "cell_type": "markdown",
   "id": "637b47a5",
   "metadata": {},
   "source": [
    "## Programming Assignment_1\n",
    "-------------"
   ]
  },
  {
   "cell_type": "markdown",
   "id": "0c647dbe",
   "metadata": {},
   "source": [
    "### 1. Write a Python program to print \"Hello Python\"?"
   ]
  },
  {
   "cell_type": "code",
   "execution_count": 1,
   "id": "93bfe2a3",
   "metadata": {},
   "outputs": [
    {
     "name": "stdout",
     "output_type": "stream",
     "text": [
      "Hello Python\n"
     ]
    }
   ],
   "source": [
    "print(\"Hello Python\")"
   ]
  },
  {
   "cell_type": "markdown",
   "id": "fc18a6cd",
   "metadata": {},
   "source": [
    "### 2. Write a Python program to do arithmetical operations addition and division.?"
   ]
  },
  {
   "cell_type": "code",
   "execution_count": 7,
   "id": "d6996297",
   "metadata": {},
   "outputs": [
    {
     "name": "stdout",
     "output_type": "stream",
     "text": [
      "Enter 1st num3\n",
      "Enter 2nd num6\n",
      "9\n",
      "2.0\n"
     ]
    }
   ],
   "source": [
    "num1 = int(input(\"Enter 1st num\"))\n",
    "num2 = int(input(\"Enter 2nd num\"))\n",
    "\n",
    "print(num1 + num2)\n",
    "print(num2 / num1)"
   ]
  },
  {
   "cell_type": "markdown",
   "id": "af6e2429",
   "metadata": {},
   "source": [
    "### 3. Write a Python program to find the area of a triangle?"
   ]
  },
  {
   "cell_type": "code",
   "execution_count": 9,
   "id": "c5576365",
   "metadata": {},
   "outputs": [
    {
     "name": "stdout",
     "output_type": "stream",
     "text": [
      "Enter base10\n",
      "Enter hypotenuse10\n",
      "Area of triangle 50.0\n"
     ]
    }
   ],
   "source": [
    "b= int(input(\"Enter base\"))\n",
    "h= int(input(\"Enter hypotenuse\"))\n",
    "print(\"Area of triangle\",+0.5*b*h)"
   ]
  },
  {
   "cell_type": "markdown",
   "id": "b8140061",
   "metadata": {},
   "source": [
    "### 4. Write a Python program to swap two variables?"
   ]
  },
  {
   "cell_type": "code",
   "execution_count": 10,
   "id": "db164490",
   "metadata": {},
   "outputs": [
    {
     "name": "stdout",
     "output_type": "stream",
     "text": [
      "Enter first Number A = 10\n",
      "Enter Second Number B = 2\n",
      "First Number 2\n",
      "Second Number 10\n"
     ]
    }
   ],
   "source": [
    "a=int(input(\"Enter first Number A = \"))\n",
    "b=int(input(\"Enter Second Number B = \"))\n",
    "c=b\n",
    "b=a\n",
    "a=c\n",
    "print(\"First Number\",+a)\n",
    "print(\"Second Number\",+b)"
   ]
  },
  {
   "cell_type": "markdown",
   "id": "3f8054c1",
   "metadata": {},
   "source": [
    "### 5. Write a Python program to generate a random number?\n"
   ]
  },
  {
   "cell_type": "code",
   "execution_count": 15,
   "id": "9f0ab0e5",
   "metadata": {},
   "outputs": [
    {
     "name": "stdout",
     "output_type": "stream",
     "text": [
      "0.28479610337063765\n"
     ]
    }
   ],
   "source": [
    "num = random.random()\n",
    "print(num)"
   ]
  }
 ],
 "metadata": {
  "kernelspec": {
   "display_name": "Python 3",
   "language": "python",
   "name": "python3"
  },
  "language_info": {
   "codemirror_mode": {
    "name": "ipython",
    "version": 3
   },
   "file_extension": ".py",
   "mimetype": "text/x-python",
   "name": "python",
   "nbconvert_exporter": "python",
   "pygments_lexer": "ipython3",
   "version": "3.8.8"
  }
 },
 "nbformat": 4,
 "nbformat_minor": 5
}
